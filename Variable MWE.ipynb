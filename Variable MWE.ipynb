{
 "cells": [
  {
   "cell_type": "markdown",
   "metadata": {},
   "source": [
    "In this notebook, I create a minimum working example for the `Variable` class of the Gradients Project. Let's first start with a single-input-variable version:"
   ]
  },
  {
   "cell_type": "code",
   "execution_count": 1,
   "metadata": {},
   "outputs": [],
   "source": [
    "class VariableSingleInput():\n",
    "    def __init__(self, evaluate=None) :\n",
    "        if evaluate == None:\n",
    "            self.evaluate = lambda value: value\n",
    "        else:\n",
    "            self.evaluate = evaluate\n",
    "        \n",
    "    def __add__(self, other):\n",
    "        if isinstance(other, (int, float)):\n",
    "            return VariableSingleInput(evaluate = lambda value: self.evaluate(value) + other)\n",
    "            \n",
    "        return VariableSingleInput(evaluate = lambda value: self.evaluate(value) + other.evaluate(value))"
   ]
  },
  {
   "cell_type": "markdown",
   "metadata": {},
   "source": [
    "Notice the use of `lambda` to define a function in one line. That makes it much easier than having an incredibly huge `evaluate` method with a ton of different `if`-`else` statements. It would be completely intractible to keep tract of.\n",
    "\n",
    "Let's test it out:"
   ]
  },
  {
   "cell_type": "code",
   "execution_count": 2,
   "metadata": {},
   "outputs": [
    {
     "name": "stdout",
     "output_type": "stream",
     "text": [
      "should be 4: 4\n",
      "should be 5: 5\n"
     ]
    }
   ],
   "source": [
    "x = VariableSingleInput()\n",
    "\n",
    "y = x + 3    # equivalent to running y = x.__add__(3)\n",
    "print(\"should be 4:\", y.evaluate(1))\n",
    "\n",
    "# This one proves that the evaluate method works\n",
    "z = y + x \n",
    "\n",
    "print(\"should be 5:\", z.evaluate(1))"
   ]
  },
  {
   "cell_type": "markdown",
   "metadata": {},
   "source": [
    "Now, I'll show how to make it take in multidimensional inputs. The key is to use a dictionary that has a \"name\" for every independent variable."
   ]
  },
  {
   "cell_type": "code",
   "execution_count": 3,
   "metadata": {},
   "outputs": [
    {
     "name": "stdout",
     "output_type": "stream",
     "text": [
      "should be 4: 4\n",
      "should be 7: 7\n"
     ]
    }
   ],
   "source": [
    "class Variable():\n",
    "    def __init__(self, name=None, evaluate=None) :\n",
    "        if evaluate == None:\n",
    "            self.evaluate = lambda values: values[self.name]\n",
    "        else:\n",
    "            self.evaluate = evaluate\n",
    "            \n",
    "        if name != None:\n",
    "            self.name = name          # its key in the evaluation dictionary\n",
    "    \n",
    "    def __add__(self, other):\n",
    "        if isinstance(other, (int, float)):\n",
    "            return Variable(evaluate = lambda values: self.evaluate(values) + other)\n",
    "            \n",
    "        return Variable(evaluate = lambda values: self.evaluate(values) + other.evaluate(values))\n",
    "        \n",
    "x_1 = Variable(name=\"x_1\")\n",
    "x_2 = Variable(name=\"x_2\")\n",
    "\n",
    "y = x_1 + x_2    # equivalent to running y = x_1.__add__(x_2)\n",
    "print(\"should be 4:\", y.evaluate({\"x_1\": 1, \"x_2\": 3}))\n",
    "\n",
    "z = y + 2 + x_1 \n",
    "\n",
    "print(\"should be 7:\", z.evaluate({\"x_1\": 1, \"x_2\": 3}))"
   ]
  }
 ],
 "metadata": {
  "kernelspec": {
   "display_name": "Python 3",
   "language": "python",
   "name": "python3"
  },
  "language_info": {
   "codemirror_mode": {
    "name": "ipython",
    "version": 3
   },
   "file_extension": ".py",
   "mimetype": "text/x-python",
   "name": "python",
   "nbconvert_exporter": "python",
   "pygments_lexer": "ipython3",
   "version": "3.8.5"
  }
 },
 "nbformat": 4,
 "nbformat_minor": 4
}
